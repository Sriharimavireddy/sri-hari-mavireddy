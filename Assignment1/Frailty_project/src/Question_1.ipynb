{
  "nbformat": 4,
  "nbformat_minor": 0,
  "metadata": {
    "colab": {
      "provenance": []
    },
    "kernelspec": {
      "name": "python3",
      "display_name": "Python 3"
    },
    "language_info": {
      "name": "python"
    }
  },
  "cells": [
    {
      "cell_type": "markdown",
      "source": [
        "[link text](https://)"
      ],
      "metadata": {
        "id": "K2jcziiBlDwH"
      }
    },
    {
      "cell_type": "markdown",
      "source": [
        "Folder structure:\n",
        "\n",
        "```\n",
        "|-- Frailty_project\n",
        "|   |-- data_raw\n",
        "|       |-- raw_frailty_data.csv\n",
        "|       |-- README.txt\n",
        "```\n",
        "\n"
      ],
      "metadata": {
        "id": "gLFd4w__lR3R"
      }
    },
    {
      "cell_type": "markdown",
      "source": [
        "Uploading dataset\n"
      ],
      "metadata": {
        "id": "2PyL-VzLs8Xf"
      }
    },
    {
      "cell_type": "code",
      "execution_count": 14,
      "metadata": {
        "colab": {
          "base_uri": "https://localhost:8080/",
          "height": 363
        },
        "id": "ObiUFxsXPSh6",
        "outputId": "b78cbaff-bf7e-4899-ed0a-1c5830da5b4d"
      },
      "outputs": [
        {
          "output_type": "execute_result",
          "data": {
            "text/plain": [
              "   Height  Weight  Age  Grip_strength Frailty\n",
              "0    65.8     112   30             30       N\n",
              "1    71.5     136   19             31       N\n",
              "2    69.4     153   45             29       N\n",
              "3    68.2     142   22             28       Y\n",
              "4    67.8     144   29             24       Y\n",
              "5    68.7     123   50             26       N\n",
              "6    69.8     141   51             22       Y\n",
              "7    70.1     136   23             20       Y\n",
              "8    67.9     112   17             19       N\n",
              "9    66.8     120   39             31       N"
            ],
            "text/html": [
              "\n",
              "  <div id=\"df-a91b423a-5586-49a0-a0c3-ab82859bfa8f\" class=\"colab-df-container\">\n",
              "    <div>\n",
              "<style scoped>\n",
              "    .dataframe tbody tr th:only-of-type {\n",
              "        vertical-align: middle;\n",
              "    }\n",
              "\n",
              "    .dataframe tbody tr th {\n",
              "        vertical-align: top;\n",
              "    }\n",
              "\n",
              "    .dataframe thead th {\n",
              "        text-align: right;\n",
              "    }\n",
              "</style>\n",
              "<table border=\"1\" class=\"dataframe\">\n",
              "  <thead>\n",
              "    <tr style=\"text-align: right;\">\n",
              "      <th></th>\n",
              "      <th>Height</th>\n",
              "      <th>Weight</th>\n",
              "      <th>Age</th>\n",
              "      <th>Grip_strength</th>\n",
              "      <th>Frailty</th>\n",
              "    </tr>\n",
              "  </thead>\n",
              "  <tbody>\n",
              "    <tr>\n",
              "      <th>0</th>\n",
              "      <td>65.8</td>\n",
              "      <td>112</td>\n",
              "      <td>30</td>\n",
              "      <td>30</td>\n",
              "      <td>N</td>\n",
              "    </tr>\n",
              "    <tr>\n",
              "      <th>1</th>\n",
              "      <td>71.5</td>\n",
              "      <td>136</td>\n",
              "      <td>19</td>\n",
              "      <td>31</td>\n",
              "      <td>N</td>\n",
              "    </tr>\n",
              "    <tr>\n",
              "      <th>2</th>\n",
              "      <td>69.4</td>\n",
              "      <td>153</td>\n",
              "      <td>45</td>\n",
              "      <td>29</td>\n",
              "      <td>N</td>\n",
              "    </tr>\n",
              "    <tr>\n",
              "      <th>3</th>\n",
              "      <td>68.2</td>\n",
              "      <td>142</td>\n",
              "      <td>22</td>\n",
              "      <td>28</td>\n",
              "      <td>Y</td>\n",
              "    </tr>\n",
              "    <tr>\n",
              "      <th>4</th>\n",
              "      <td>67.8</td>\n",
              "      <td>144</td>\n",
              "      <td>29</td>\n",
              "      <td>24</td>\n",
              "      <td>Y</td>\n",
              "    </tr>\n",
              "    <tr>\n",
              "      <th>5</th>\n",
              "      <td>68.7</td>\n",
              "      <td>123</td>\n",
              "      <td>50</td>\n",
              "      <td>26</td>\n",
              "      <td>N</td>\n",
              "    </tr>\n",
              "    <tr>\n",
              "      <th>6</th>\n",
              "      <td>69.8</td>\n",
              "      <td>141</td>\n",
              "      <td>51</td>\n",
              "      <td>22</td>\n",
              "      <td>Y</td>\n",
              "    </tr>\n",
              "    <tr>\n",
              "      <th>7</th>\n",
              "      <td>70.1</td>\n",
              "      <td>136</td>\n",
              "      <td>23</td>\n",
              "      <td>20</td>\n",
              "      <td>Y</td>\n",
              "    </tr>\n",
              "    <tr>\n",
              "      <th>8</th>\n",
              "      <td>67.9</td>\n",
              "      <td>112</td>\n",
              "      <td>17</td>\n",
              "      <td>19</td>\n",
              "      <td>N</td>\n",
              "    </tr>\n",
              "    <tr>\n",
              "      <th>9</th>\n",
              "      <td>66.8</td>\n",
              "      <td>120</td>\n",
              "      <td>39</td>\n",
              "      <td>31</td>\n",
              "      <td>N</td>\n",
              "    </tr>\n",
              "  </tbody>\n",
              "</table>\n",
              "</div>\n",
              "    <div class=\"colab-df-buttons\">\n",
              "\n",
              "  <div class=\"colab-df-container\">\n",
              "    <button class=\"colab-df-convert\" onclick=\"convertToInteractive('df-a91b423a-5586-49a0-a0c3-ab82859bfa8f')\"\n",
              "            title=\"Convert this dataframe to an interactive table.\"\n",
              "            style=\"display:none;\">\n",
              "\n",
              "  <svg xmlns=\"http://www.w3.org/2000/svg\" height=\"24px\" viewBox=\"0 -960 960 960\">\n",
              "    <path d=\"M120-120v-720h720v720H120Zm60-500h600v-160H180v160Zm220 220h160v-160H400v160Zm0 220h160v-160H400v160ZM180-400h160v-160H180v160Zm440 0h160v-160H620v160ZM180-180h160v-160H180v160Zm440 0h160v-160H620v160Z\"/>\n",
              "  </svg>\n",
              "    </button>\n",
              "\n",
              "  <style>\n",
              "    .colab-df-container {\n",
              "      display:flex;\n",
              "      gap: 12px;\n",
              "    }\n",
              "\n",
              "    .colab-df-convert {\n",
              "      background-color: #E8F0FE;\n",
              "      border: none;\n",
              "      border-radius: 50%;\n",
              "      cursor: pointer;\n",
              "      display: none;\n",
              "      fill: #1967D2;\n",
              "      height: 32px;\n",
              "      padding: 0 0 0 0;\n",
              "      width: 32px;\n",
              "    }\n",
              "\n",
              "    .colab-df-convert:hover {\n",
              "      background-color: #E2EBFA;\n",
              "      box-shadow: 0px 1px 2px rgba(60, 64, 67, 0.3), 0px 1px 3px 1px rgba(60, 64, 67, 0.15);\n",
              "      fill: #174EA6;\n",
              "    }\n",
              "\n",
              "    .colab-df-buttons div {\n",
              "      margin-bottom: 4px;\n",
              "    }\n",
              "\n",
              "    [theme=dark] .colab-df-convert {\n",
              "      background-color: #3B4455;\n",
              "      fill: #D2E3FC;\n",
              "    }\n",
              "\n",
              "    [theme=dark] .colab-df-convert:hover {\n",
              "      background-color: #434B5C;\n",
              "      box-shadow: 0px 1px 3px 1px rgba(0, 0, 0, 0.15);\n",
              "      filter: drop-shadow(0px 1px 2px rgba(0, 0, 0, 0.3));\n",
              "      fill: #FFFFFF;\n",
              "    }\n",
              "  </style>\n",
              "\n",
              "    <script>\n",
              "      const buttonEl =\n",
              "        document.querySelector('#df-a91b423a-5586-49a0-a0c3-ab82859bfa8f button.colab-df-convert');\n",
              "      buttonEl.style.display =\n",
              "        google.colab.kernel.accessAllowed ? 'block' : 'none';\n",
              "\n",
              "      async function convertToInteractive(key) {\n",
              "        const element = document.querySelector('#df-a91b423a-5586-49a0-a0c3-ab82859bfa8f');\n",
              "        const dataTable =\n",
              "          await google.colab.kernel.invokeFunction('convertToInteractive',\n",
              "                                                    [key], {});\n",
              "        if (!dataTable) return;\n",
              "\n",
              "        const docLinkHtml = 'Like what you see? Visit the ' +\n",
              "          '<a target=\"_blank\" href=https://colab.research.google.com/notebooks/data_table.ipynb>data table notebook</a>'\n",
              "          + ' to learn more about interactive tables.';\n",
              "        element.innerHTML = '';\n",
              "        dataTable['output_type'] = 'display_data';\n",
              "        await google.colab.output.renderOutput(dataTable, element);\n",
              "        const docLink = document.createElement('div');\n",
              "        docLink.innerHTML = docLinkHtml;\n",
              "        element.appendChild(docLink);\n",
              "      }\n",
              "    </script>\n",
              "  </div>\n",
              "\n",
              "\n",
              "<div id=\"df-93f388fb-65e3-4f4a-b4c6-a676ef7df90a\">\n",
              "  <button class=\"colab-df-quickchart\" onclick=\"quickchart('df-93f388fb-65e3-4f4a-b4c6-a676ef7df90a')\"\n",
              "            title=\"Suggest charts\"\n",
              "            style=\"display:none;\">\n",
              "\n",
              "<svg xmlns=\"http://www.w3.org/2000/svg\" height=\"24px\"viewBox=\"0 0 24 24\"\n",
              "     width=\"24px\">\n",
              "    <g>\n",
              "        <path d=\"M19 3H5c-1.1 0-2 .9-2 2v14c0 1.1.9 2 2 2h14c1.1 0 2-.9 2-2V5c0-1.1-.9-2-2-2zM9 17H7v-7h2v7zm4 0h-2V7h2v10zm4 0h-2v-4h2v4z\"/>\n",
              "    </g>\n",
              "</svg>\n",
              "  </button>\n",
              "\n",
              "<style>\n",
              "  .colab-df-quickchart {\n",
              "      --bg-color: #E8F0FE;\n",
              "      --fill-color: #1967D2;\n",
              "      --hover-bg-color: #E2EBFA;\n",
              "      --hover-fill-color: #174EA6;\n",
              "      --disabled-fill-color: #AAA;\n",
              "      --disabled-bg-color: #DDD;\n",
              "  }\n",
              "\n",
              "  [theme=dark] .colab-df-quickchart {\n",
              "      --bg-color: #3B4455;\n",
              "      --fill-color: #D2E3FC;\n",
              "      --hover-bg-color: #434B5C;\n",
              "      --hover-fill-color: #FFFFFF;\n",
              "      --disabled-bg-color: #3B4455;\n",
              "      --disabled-fill-color: #666;\n",
              "  }\n",
              "\n",
              "  .colab-df-quickchart {\n",
              "    background-color: var(--bg-color);\n",
              "    border: none;\n",
              "    border-radius: 50%;\n",
              "    cursor: pointer;\n",
              "    display: none;\n",
              "    fill: var(--fill-color);\n",
              "    height: 32px;\n",
              "    padding: 0;\n",
              "    width: 32px;\n",
              "  }\n",
              "\n",
              "  .colab-df-quickchart:hover {\n",
              "    background-color: var(--hover-bg-color);\n",
              "    box-shadow: 0 1px 2px rgba(60, 64, 67, 0.3), 0 1px 3px 1px rgba(60, 64, 67, 0.15);\n",
              "    fill: var(--button-hover-fill-color);\n",
              "  }\n",
              "\n",
              "  .colab-df-quickchart-complete:disabled,\n",
              "  .colab-df-quickchart-complete:disabled:hover {\n",
              "    background-color: var(--disabled-bg-color);\n",
              "    fill: var(--disabled-fill-color);\n",
              "    box-shadow: none;\n",
              "  }\n",
              "\n",
              "  .colab-df-spinner {\n",
              "    border: 2px solid var(--fill-color);\n",
              "    border-color: transparent;\n",
              "    border-bottom-color: var(--fill-color);\n",
              "    animation:\n",
              "      spin 1s steps(1) infinite;\n",
              "  }\n",
              "\n",
              "  @keyframes spin {\n",
              "    0% {\n",
              "      border-color: transparent;\n",
              "      border-bottom-color: var(--fill-color);\n",
              "      border-left-color: var(--fill-color);\n",
              "    }\n",
              "    20% {\n",
              "      border-color: transparent;\n",
              "      border-left-color: var(--fill-color);\n",
              "      border-top-color: var(--fill-color);\n",
              "    }\n",
              "    30% {\n",
              "      border-color: transparent;\n",
              "      border-left-color: var(--fill-color);\n",
              "      border-top-color: var(--fill-color);\n",
              "      border-right-color: var(--fill-color);\n",
              "    }\n",
              "    40% {\n",
              "      border-color: transparent;\n",
              "      border-right-color: var(--fill-color);\n",
              "      border-top-color: var(--fill-color);\n",
              "    }\n",
              "    60% {\n",
              "      border-color: transparent;\n",
              "      border-right-color: var(--fill-color);\n",
              "    }\n",
              "    80% {\n",
              "      border-color: transparent;\n",
              "      border-right-color: var(--fill-color);\n",
              "      border-bottom-color: var(--fill-color);\n",
              "    }\n",
              "    90% {\n",
              "      border-color: transparent;\n",
              "      border-bottom-color: var(--fill-color);\n",
              "    }\n",
              "  }\n",
              "</style>\n",
              "\n",
              "  <script>\n",
              "    async function quickchart(key) {\n",
              "      const quickchartButtonEl =\n",
              "        document.querySelector('#' + key + ' button');\n",
              "      quickchartButtonEl.disabled = true;  // To prevent multiple clicks.\n",
              "      quickchartButtonEl.classList.add('colab-df-spinner');\n",
              "      try {\n",
              "        const charts = await google.colab.kernel.invokeFunction(\n",
              "            'suggestCharts', [key], {});\n",
              "      } catch (error) {\n",
              "        console.error('Error during call to suggestCharts:', error);\n",
              "      }\n",
              "      quickchartButtonEl.classList.remove('colab-df-spinner');\n",
              "      quickchartButtonEl.classList.add('colab-df-quickchart-complete');\n",
              "    }\n",
              "    (() => {\n",
              "      let quickchartButtonEl =\n",
              "        document.querySelector('#df-93f388fb-65e3-4f4a-b4c6-a676ef7df90a button');\n",
              "      quickchartButtonEl.style.display =\n",
              "        google.colab.kernel.accessAllowed ? 'block' : 'none';\n",
              "    })();\n",
              "  </script>\n",
              "</div>\n",
              "\n",
              "    </div>\n",
              "  </div>\n"
            ],
            "application/vnd.google.colaboratory.intrinsic+json": {
              "type": "dataframe",
              "variable_name": "df",
              "summary": "{\n  \"name\": \"df\",\n  \"rows\": 10,\n  \"fields\": [\n    {\n      \"column\": \"Height\",\n      \"properties\": {\n        \"dtype\": \"number\",\n        \"std\": 1.6706618781522227,\n        \"min\": 65.8,\n        \"max\": 71.5,\n        \"num_unique_values\": 10,\n        \"samples\": [\n          67.9,\n          71.5,\n          68.7\n        ],\n        \"semantic_type\": \"\",\n        \"description\": \"\"\n      }\n    },\n    {\n      \"column\": \"Weight\",\n      \"properties\": {\n        \"dtype\": \"number\",\n        \"std\": 14,\n        \"min\": 112,\n        \"max\": 153,\n        \"num_unique_values\": 8,\n        \"samples\": [\n          136,\n          123,\n          112\n        ],\n        \"semantic_type\": \"\",\n        \"description\": \"\"\n      }\n    },\n    {\n      \"column\": \"Age\",\n      \"properties\": {\n        \"dtype\": \"number\",\n        \"std\": 12,\n        \"min\": 17,\n        \"max\": 51,\n        \"num_unique_values\": 10,\n        \"samples\": [\n          17,\n          19,\n          50\n        ],\n        \"semantic_type\": \"\",\n        \"description\": \"\"\n      }\n    },\n    {\n      \"column\": \"Grip_strength\",\n      \"properties\": {\n        \"dtype\": \"number\",\n        \"std\": 4,\n        \"min\": 19,\n        \"max\": 31,\n        \"num_unique_values\": 9,\n        \"samples\": [\n          20,\n          31,\n          26\n        ],\n        \"semantic_type\": \"\",\n        \"description\": \"\"\n      }\n    },\n    {\n      \"column\": \"Frailty\",\n      \"properties\": {\n        \"dtype\": \"category\",\n        \"num_unique_values\": 2,\n        \"samples\": [\n          \"Y\",\n          \"N\"\n        ],\n        \"semantic_type\": \"\",\n        \"description\": \"\"\n      }\n    }\n  ]\n}"
            }
          },
          "metadata": {},
          "execution_count": 14
        }
      ],
      "source": [
        "import pandas as pd\n",
        "\n",
        "# /content/assigment1.csv\n",
        "file_path = '/content/frailty_data.csv'\n",
        "\n",
        "# Data Loading using Pandas\n",
        "df = pd.read_csv(file_path)\n",
        "\n",
        "# Data Set Preview\n",
        "df.head(11)"
      ]
    },
    {
      "cell_type": "markdown",
      "source": [
        "Creating folder structure as shown above ,Here i have created folder for raw data and file for result of raw data\n"
      ],
      "metadata": {
        "id": "pwNxR_GrtNTL"
      }
    },
    {
      "cell_type": "code",
      "source": [
        "# Create the directory for raw data\n",
        "!mkdir -p Frailty_project/data_raw\n",
        "\n",
        "# Move your dataset into this folder (assuming it's already saved as raw_Frailty_data.csv)\n",
        "!mv frailty_data.csv Frailty_project/data_raw/raw_data.csv\n",
        "\n",
        "# Create a README file explaining the raw data contents\n",
        "!echo \"Raw dataset for 10 female participants measuring Height, Weight, Age, Grip Strength, and Frailty.\" > Frailty_project/data_raw/README.txt"
      ],
      "metadata": {
        "id": "zaKq2qJGPnIS"
      },
      "execution_count": 16,
      "outputs": []
    },
    {
      "cell_type": "markdown",
      "source": [
        "Similarlly like above created folder for cleaned data."
      ],
      "metadata": {
        "id": "gsGqfVaPtfRF"
      }
    },
    {
      "cell_type": "code",
      "source": [
        "# Create directories for cleaned data and source code\n",
        "!mkdir -p Frailty_project/data_clean\n",
        "!mkdir -p Frailty_project/src\n",
        "\n",
        "# Create a Python script to clean the data (for example, handling missing values)\n",
        "!touch Frailty_project/src/clean_data.py"
      ],
      "metadata": {
        "id": "XsnXwALFPojW"
      },
      "execution_count": 17,
      "outputs": []
    },
    {
      "cell_type": "markdown",
      "source": [
        "DATA CLEANING:\n",
        "Checking for any null values in the given dataset"
      ],
      "metadata": {
        "id": "dt4Xw2L0t2_5"
      }
    },
    {
      "cell_type": "code",
      "source": [
        "# Using the isnull method to identify and count missing values in each column\n",
        "missing_values_count = df.isnull().sum()\n",
        "\n",
        "# Displaying Missing Values Count\n",
        "print(\"Missing values count in each column:\")\n",
        "print(missing_values_count)\n",
        "\n",
        "# Checking for overall missing values using the isnull().any().sum() approach\n",
        "total_missing = df.isnull().any().sum()\n",
        "if total_missing > 0:\n",
        "    print(f\"There are missing values in {total_missing} columns.\")\n",
        "else:\n",
        "    print(\"No missing values in the DataFrame.\")"
      ],
      "metadata": {
        "colab": {
          "base_uri": "https://localhost:8080/"
        },
        "id": "s6fX2huZPsCn",
        "outputId": "01583f36-2015-49c2-c1c7-fe4fe9f84bb3"
      },
      "execution_count": 18,
      "outputs": [
        {
          "output_type": "stream",
          "name": "stdout",
          "text": [
            "Missing values count in each column:\n",
            "Height           0\n",
            "Weight           0\n",
            "Age              0\n",
            "Grip_strength    0\n",
            "Frailty          0\n",
            "dtype: int64\n",
            "No missing values in the DataFrame.\n"
          ]
        }
      ]
    },
    {
      "cell_type": "code",
      "source": [
        "import pandas as pd\n",
        "import os\n",
        "# Ensure the directory exists\n",
        "output_dir = 'Frailty_project/data_clean'\n",
        "\n",
        "# Filter the DataFrame where column 4 does not contain 'N'\n",
        "df_filtered = df[df.iloc[:, 4].str.contains('N') == False]\n",
        "\n",
        "# Display the filtered DataFrame\n",
        "print(df_filtered)\n",
        "\n",
        "# Save the cleaned data to the specified folder\n",
        "output_path = os.path.join(output_dir, 'cleaned_data.csv')\n",
        "df_filtered.to_csv(output_path, index=False)"
      ],
      "metadata": {
        "id": "CDVOqkJKPxfm",
        "colab": {
          "base_uri": "https://localhost:8080/"
        },
        "outputId": "799a568c-d13d-42c6-846c-3339507ea45e"
      },
      "execution_count": 19,
      "outputs": [
        {
          "output_type": "stream",
          "name": "stdout",
          "text": [
            "   Height  Weight  Age  Grip_strength Frailty\n",
            "3    68.2     142   22             28       Y\n",
            "4    67.8     144   29             24       Y\n",
            "6    69.8     141   51             22       Y\n",
            "7    70.1     136   23             20       Y\n"
          ]
        }
      ]
    },
    {
      "cell_type": "code",
      "source": [
        "import pandas as pd\n",
        "import os\n",
        "# Ensure the directory exists\n",
        "output_dir = 'Frailty_project/data_clean'\n",
        "\n",
        "# Filter the DataFrame where column 4 does not contain 'N'\n",
        "df_filtered = df[df.iloc[:, 4].str.contains('N') == False]\n",
        "\n",
        "# Display the filtered DataFrame\n",
        "print(df_filtered)\n",
        "\n",
        "# Save the cleaned data to the specified folder\n",
        "output_path = os.path.join(output_dir, 'cleaned_data.csv')\n",
        "df_filtered.to_csv(output_path, index=False)"
      ],
      "metadata": {
        "colab": {
          "base_uri": "https://localhost:8080/"
        },
        "id": "RepCH2mfP047",
        "outputId": "d0eb43c7-d019-42ce-fd09-b11a7f95e2cc"
      },
      "execution_count": 20,
      "outputs": [
        {
          "output_type": "stream",
          "name": "stdout",
          "text": [
            "   Height  Weight  Age  Grip_strength Frailty\n",
            "3    68.2     142   22             28       Y\n",
            "4    67.8     144   29             24       Y\n",
            "6    69.8     141   51             22       Y\n",
            "7    70.1     136   23             20       Y\n"
          ]
        }
      ]
    },
    {
      "cell_type": "markdown",
      "source": [
        "\n",
        "\n",
        "```\n",
        "|-- Frailty_project\n",
        "|   |-- data_clean\n",
        "|       |-- cleaned_data.csv\n",
        "|   |-- data_raw\n",
        "|       |-- raw_data.csv\n",
        "|       |-- README.txt\n",
        "|   |-- results\n",
        "|       |-- t_test_results.txt\n",
        "|   |-- src\n",
        "|       |-- Analysis.py\n",
        "```\n",
        "\n"
      ],
      "metadata": {
        "id": "_MDmiqWpnhhs"
      }
    },
    {
      "cell_type": "code",
      "source": [
        "import matplotlib.pyplot as plt\n",
        "import pandas as pd\n",
        "from scipy.stats import ttest_ind\n",
        "\n",
        "# Perform T-Test analysis between 'Age' and 'Grip strength'\n",
        "ttest_results = ttest_ind(df_filtered['Age'], df_filtered['Grip_strength'])\n",
        "\n",
        "# Display T-Test results in tabular form\n",
        "ttest_table = pd.DataFrame({\n",
        "    'Statistic': [ttest_results.statistic],\n",
        "    'P-value': [ttest_results.pvalue]\n",
        "})\n",
        "\n",
        "print(\"T-Test Results for Age and Grip Strength:\")\n",
        "print(ttest_table)\n",
        "\n",
        "# Interpret T-Test results\n",
        "if ttest_results.pvalue < 0.05:\n",
        "    print(\"Significant difference found between Age and Grip Strength.\")\n",
        "else:\n",
        "    print(\"No significant difference found between Age and Grip Strength.\")\n",
        "\n",
        "# Plotting a Hexbin plot: Age vs Grip Strength with color intensity\n",
        "plt.figure(figsize=(8, 6))\n",
        "hb = plt.hexbin(df_filtered['Age'], df_filtered['Grip_strength'], gridsize=30, cmap='Blues')\n",
        "\n",
        "# Adding a color bar to indicate density\n",
        "cb = plt.colorbar(hb)\n",
        "cb.set_label('Counts')\n",
        "\n",
        "# Overlaying individual data points\n",
        "plt.scatter(df_filtered['Age'], df_filtered['Grip_strength'], color='red', alpha=0.5, s=10)\n",
        "\n",
        "# Customize plot\n",
        "plt.xlabel('Age')\n",
        "plt.ylabel('Grip Strength')\n",
        "plt.title('Hexbin Plot: Age vs Grip Strength')\n",
        "plt.grid(True)\n",
        "\n",
        "# Display the plot\n",
        "plt.show()\n"
      ],
      "metadata": {
        "colab": {
          "base_uri": "https://localhost:8080/",
          "height": 637
        },
        "id": "SjKaq-OWkBoW",
        "outputId": "c004a667-393c-48e4-989e-239b2988199d"
      },
      "execution_count": 21,
      "outputs": [
        {
          "output_type": "stream",
          "name": "stdout",
          "text": [
            "T-Test Results for Age and Grip Strength:\n",
            "   Statistic  P-value\n",
            "0   1.111166  0.30903\n",
            "No significant difference found between Age and Grip Strength.\n"
          ]
        },
        {
          "output_type": "display_data",
          "data": {
            "text/plain": [
              "<Figure size 800x600 with 2 Axes>"
            ],
            "image/png": "[encoded data removed]"
          },
          "metadata": {}
        }
      ]
    }
  ]
}